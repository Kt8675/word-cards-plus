{
 "cells": [
  {
   "cell_type": "code",
   "execution_count": 1,
   "id": "ce1239b0-f4eb-4c0f-8abb-a1b36db2b720",
   "metadata": {
    "execution": {
     "iopub.execute_input": "2025-01-28T14:07:27.750735Z",
     "iopub.status.busy": "2025-01-28T14:07:27.750462Z",
     "iopub.status.idle": "2025-01-28T14:07:27.755978Z",
     "shell.execute_reply": "2025-01-28T14:07:27.755414Z",
     "shell.execute_reply.started": "2025-01-28T14:07:27.750712Z"
    },
    "tags": []
   },
   "outputs": [],
   "source": [
    "import os\n",
    "os.environ['GRADIO_ROOT_PATH'] = f\"/{os.environ['JUPYTER_NAME']}/proxy/7860\""
   ]
  },
  {
   "cell_type": "code",
   "execution_count": 4,
   "id": "04ff791d-253b-4fa3-8aab-8cc7b10b0562",
   "metadata": {
    "ExecutionIndicator": {
     "show": false
    },
    "execution": {
     "iopub.execute_input": "2025-01-28T14:10:12.564735Z",
     "iopub.status.busy": "2025-01-28T14:10:12.564420Z",
     "iopub.status.idle": "2025-01-28T14:10:13.218693Z",
     "shell.execute_reply": "2025-01-28T14:10:13.218082Z",
     "shell.execute_reply.started": "2025-01-28T14:10:12.564705Z"
    },
    "tags": []
   },
   "outputs": [
    {
     "name": "stdout",
     "output_type": "stream",
     "text": [
      "* Running on local URL:  http://127.0.0.1:7862\n",
      "\n",
      "To create a public link, set `share=True` in `launch()`.\n"
     ]
    },
    {
     "data": {
      "text/html": [
       "<div><iframe src=\"http://127.0.0.1:7862/\" width=\"100%\" height=\"500\" allow=\"autoplay; camera; microphone; clipboard-read; clipboard-write;\" frameborder=\"0\" allowfullscreen></iframe></div>"
      ],
      "text/plain": [
       "<IPython.core.display.HTML object>"
      ]
     },
     "metadata": {},
     "output_type": "display_data"
    },
    {
     "data": {
      "text/plain": []
     },
     "execution_count": 4,
     "metadata": {},
     "output_type": "execute_result"
    }
   ],
   "source": [
    "import gradio as gr\n",
    "\n",
    "# 只是大致的框架，还没做模型的对接\n",
    "# 界面2中模型输出都是输出在文本框内，考虑后面换成chatbox来展示问答的内容\n",
    "\n",
    "\n",
    "# 第一个界面的函数：接收输入并展示 HTML 文件\n",
    "def display_html(input_text):\n",
    "    # 这里可以根据输入动态生成 HTML 内容\n",
    "    # if input_text is None:\n",
    "    #     return \"请输入单词！\"\n",
    "\n",
    "    html_content = r'''\n",
    "    <!DOCTYPE html>\n",
    "<html lang=\"en\">\n",
    "<head>\n",
    "    <meta charset=\"UTF-8\">\n",
    "    <meta name=\"viewport\" content=\"width=device-width, initial-scale=1.0\">\n",
    "    <title>单词卡片</title>\n",
    "    <style>\n",
    "        body {\n",
    "            font-family: Arial, sans-serif;\n",
    "            max-width: 800px;\n",
    "            margin: 0 auto;\n",
    "            padding: 20px;\n",
    "            text-align: center;\n",
    "        }\n",
    "        .word {\n",
    "            font-size: 36px;\n",
    "            margin-bottom: 10px;\n",
    "            color: #333;\n",
    "        }\n",
    "        .meaning {\n",
    "            font-size: 24px;\n",
    "            margin-bottom: 30px;\n",
    "            color: #666;\n",
    "        }\n",
    "        .example-section {\n",
    "            background-color: #f5f5f5;\n",
    "            padding: 20px;\n",
    "            border-radius: 10px;\n",
    "            margin-bottom: 20px;\n",
    "        }\n",
    "        .example {\n",
    "            font-size: 20px;\n",
    "            cursor: pointer;\n",
    "            color: #2196F3;\n",
    "            margin-bottom: 20px;\n",
    "        }\n",
    "        .example:hover {\n",
    "            text-decoration: underline;\n",
    "        }\n",
    "        .image-container {\n",
    "            margin-top: 20px;\n",
    "        }\n",
    "        img {\n",
    "            max-width: 100%;\n",
    "            height: auto;\n",
    "            border-radius: 8px;\n",
    "        }\n",
    "        .related-words {\n",
    "            margin-top: 30px;\n",
    "            padding: 20px;\n",
    "            background-color: #f0f7ff;\n",
    "            border-radius: 10px;\n",
    "        }\n",
    "        .related-word-item {\n",
    "            display: inline-block;\n",
    "            margin: 10px 20px;\n",
    "            padding: 10px;\n",
    "            background-color: white;\n",
    "            border-radius: 6px;\n",
    "            box-shadow: 0 2px 4px rgba(0,0,0,0.1);\n",
    "        }\n",
    "        .related-word-item .word-text {\n",
    "            font-size: 20px;\n",
    "            color: #2196F3;\n",
    "            margin-bottom: 5px;\n",
    "        }\n",
    "        .related-word-item .word-meaning {\n",
    "            font-size: 16px;\n",
    "            color: #666;\n",
    "        }\n",
    "    </style>\n",
    "</head>\n",
    "<body>\n",
    "    <div class=\"word\">char</div>\n",
    "    <div class=\"pronunciation\">英 [tʃɑːr] 美 [tʃɑːr]</div>\n",
    "    <div class=\"meaning\">字符</div>\n",
    "    <!-- 这里需要单词、音标和释义 -->\n",
    "    \n",
    "    <div class=\"example-section\">\n",
    "        <div class=\"example\" onclick=\"playAudio()\">\n",
    "            This is char\n",
    "        </div>\n",
    "        <audio id=\"audioPlayer\" src=\"audio2.wav\"></audio>\n",
    "        <!-- 这里需要一个音频 -->\n",
    "    </div>\n",
    "\n",
    "    <div class=\"image-container\">\n",
    "        <img src=\"char.jpg\" alt=\"char illustration\">\n",
    "        <!-- 这里需要一个图片 -->\n",
    "    </div>\n",
    "\n",
    "    <div class=\"related-words\">\n",
    "        <h3>相关词族</h3>\n",
    "        <div class=\"related-word-item\">\n",
    "            <div class=\"word-text\">chore</div>\n",
    "            <div class=\"word-meaning\">碳</div>\n",
    "        </div>\n",
    "        <div class=\"related-word-item\">\n",
    "            <div class=\"word-text\">coal</div>\n",
    "            <div class=\"word-meaning\">把...烧成碳</div>\n",
    "        </div>\n",
    "        <!-- 这里需要相关词族 -->\n",
    "    </div>\n",
    "\n",
    "    <script>\n",
    "        function playAudio() {\n",
    "            const audio = document.getElementById('audioPlayer');\n",
    "            audio.play();\n",
    "        }\n",
    "    </script>\n",
    "</body>\n",
    "</html>\n",
    "\n",
    "    '''\n",
    "    return html_content\n",
    "\n",
    "# 第二个界面的函数：模拟模型输出和选项\n",
    "\n",
    "def question_output(input_kinds, input_text):\n",
    "    # 写一段prompt，结合input_text输入到模型，生成问题以及4个选项\n",
    "    output = f\"这是一个问题{input_kinds, input_text}；四个选项\"\n",
    "    return output\n",
    "    \n",
    "# 模型输出用户答案的对错与解析\n",
    "def answer_output(input_text):\n",
    "    # 模型接收到了用户的答案，判断对错并给出解析\n",
    "    output = f\"模型输出结果：{input_text} 的解析\"\n",
    "    \n",
    "    return input_text\n",
    "\n",
    "# 用来清除textbox内的内容\n",
    "def clear_box():\n",
    "    return \"\"\n",
    "\n",
    "# 第一个界面\n",
    "with gr.Blocks() as interface1:\n",
    "    with gr.Row():\n",
    "        with gr.Column():\n",
    "            user_input = gr.Textbox(label=\"请输入内容\")\n",
    "        with gr.Column():\n",
    "            html_output = gr.HTML(label=\"HTML 展示\")\n",
    "    with gr.Row():\n",
    "        words_submit = gr.Button(\"提交\")\n",
    "    # user_input.change(fn=display_html, inputs=user_input, outputs=html_output)\n",
    "    words_submit.click(fn=display_html, inputs=user_input, outputs=html_output)\n",
    "\n",
    "# 第二个界面\n",
    "with gr.Blocks() as interface2:\n",
    "    # 选择题目的类型\n",
    "    question_options = gr.Radio(choices=[\"文本题\", \"图片题\", \"音频\"], label=\"请选择题目类型\", interactive=True)\n",
    "    \n",
    "    # 用于帮助模型生成模型的信息，结合prompt使用\n",
    "    question_descrip = gr.Textbox(label=\"问题辅助信息\")\n",
    "    # 生成问题的按钮，按下后模型会结合question_options、question_descrip的信息在model_result生成信息\n",
    "    question_button = gr.Button(\"生成问题\")\n",
    "    model_result = gr.Textbox(label=\"模型输出结果\", interactive=False)\n",
    "    options = gr.Radio(choices=[\"选项A\", \"选项B\", \"选项C\", \"选项D\"], label=\"请选择一个选项\", interactive=True)\n",
    "    \n",
    "    # 提交答案的按钮，按下后模型会在model_result生成对用户答案的判断和解析\n",
    "    submit_button = gr.Button(\"提交答案\")\n",
    "    \n",
    "    clear_button = gr.Button(\"清除一切\")\n",
    "    \n",
    "    question_button.click(fn=question_output, inputs=[question_options, question_descrip], outputs=model_result)\n",
    "    submit_button.click(fn=answer_output, inputs=options, outputs=model_result)\n",
    "    \n",
    "    clear_button.click(fn=clear_box, inputs=None, outputs=model_result)\n",
    "# 将两个界面组合成一个 Tab 界面\n",
    "demo = gr.TabbedInterface(\n",
    "    [interface1, interface2],\n",
    "    [\"界面 1: 单词卡展示模块\", \"界面 2: 问答模块\"]\n",
    ")\n",
    "\n",
    "# 启动应用\n",
    "demo.close()\n",
    "demo.launch()"
   ]
  },
  {
   "cell_type": "code",
   "execution_count": 2,
   "id": "02b91ce7-49c5-4e12-901a-a29e4ebcd182",
   "metadata": {
    "ExecutionIndicator": {
     "show": true
    },
    "execution": {
     "iopub.execute_input": "2025-01-28T11:12:03.264470Z",
     "iopub.status.busy": "2025-01-28T11:12:03.264056Z",
     "iopub.status.idle": "2025-01-28T11:12:03.899527Z",
     "shell.execute_reply": "2025-01-28T11:12:03.898951Z",
     "shell.execute_reply.started": "2025-01-28T11:12:03.264444Z"
    },
    "tags": []
   },
   "outputs": [
    {
     "name": "stderr",
     "output_type": "stream",
     "text": [
      "/usr/local/lib/python3.10/site-packages/gradio/utils.py:1003: UserWarning: Expected 0 arguments for function <function model_output at 0x7f97ec05cc10>, received 1.\n",
      "  warnings.warn(\n",
      "/usr/local/lib/python3.10/site-packages/gradio/utils.py:1011: UserWarning: Expected maximum 0 arguments for function <function model_output at 0x7f97ec05cc10>, received 1.\n",
      "  warnings.warn(\n"
     ]
    },
    {
     "name": "stdout",
     "output_type": "stream",
     "text": [
      "* Running on local URL:  http://127.0.0.1:7860\n",
      "\n",
      "To create a public link, set `share=True` in `launch()`.\n"
     ]
    },
    {
     "data": {
      "text/html": [
       "<div><iframe src=\"http://127.0.0.1:7860/\" width=\"100%\" height=\"500\" allow=\"autoplay; camera; microphone; clipboard-read; clipboard-write;\" frameborder=\"0\" allowfullscreen></iframe></div>"
      ],
      "text/plain": [
       "<IPython.core.display.HTML object>"
      ]
     },
     "metadata": {},
     "output_type": "display_data"
    },
    {
     "data": {
      "text/plain": []
     },
     "execution_count": 2,
     "metadata": {},
     "output_type": "execute_result"
    }
   ],
   "source": [
    "\n",
    "import gradio as gr\n",
    "\n",
    "def display_html(input_text):\n",
    "    # 这里可以根据输入动态生成 HTML 内容\n",
    "    html_content = f\"\"\"\n",
    "    <html>\n",
    "        <body>\n",
    "            <h1>你输入的内容是：</h1>\n",
    "            <p>{input_text}</p>\n",
    "        </body>\n",
    "    </html>\n",
    "    \"\"\"\n",
    "    return html_content\n",
    "\n",
    "# 用于展示模型给出的选项\n",
    "def  model_output():\n",
    "     # 模拟模型输出\n",
    "    output = f\"模型输出结果：{input_text}\"\n",
    "    # 模拟四个选项\n",
    "    options = [\"选项 A\", \"选项 B\", \"选项 C\", \"选项 D\"]\n",
    "    return output, options\n",
    "\n",
    "with gr.Blocks() as interface1:\n",
    "    with gr.Row():\n",
    "        with gr.Column():\n",
    "            user_input = gr.Textbox(label=\"请输入内容\")\n",
    "        with gr.Column():\n",
    "            html_output = gr.HTML(label=\"单词卡\")\n",
    "        \n",
    "        user_input.change(fn=display_html, inputs=user_input, outputs=html_output)\n",
    "        \n",
    "with gr.Blocks() as interface2:\n",
    "    model_output_box = gr.Textbox(label=\"模型输出结果\", interactive=False)\n",
    "    options = gr.Radio(choices=[], label=\"请选择一个选项\")\n",
    "    user_input = gr.Textbox(label=\"请输入选项\")\n",
    "    user_input.change(fn=model_output, inputs=user_input, outputs=[model_output_box, options])\n",
    "\n",
    "demo = gr.TabbedInterface(\n",
    "[interface1, interface2],\n",
    "[\"界面 1: 输入与 HTML 展示\", \"界面 2: 模型输出与选项\"])\n",
    "\n",
    "demo.launch()"
   ]
  },
  {
   "cell_type": "code",
   "execution_count": 5,
   "id": "89280349-dd09-4d49-90ac-9e6b349f30d3",
   "metadata": {
    "ExecutionIndicator": {
     "show": true
    },
    "execution": {
     "iopub.execute_input": "2025-01-28T13:25:28.360110Z",
     "iopub.status.busy": "2025-01-28T13:25:28.359799Z",
     "iopub.status.idle": "2025-01-28T13:25:28.873887Z",
     "shell.execute_reply": "2025-01-28T13:25:28.873455Z",
     "shell.execute_reply.started": "2025-01-28T13:25:28.360092Z"
    },
    "tags": []
   },
   "outputs": [
    {
     "name": "stdout",
     "output_type": "stream",
     "text": [
      "* Running on local URL:  http://127.0.0.1:7862\n",
      "\n",
      "To create a public link, set `share=True` in `launch()`.\n"
     ]
    },
    {
     "data": {
      "text/html": [
       "<div><iframe src=\"http://127.0.0.1:7862/\" width=\"100%\" height=\"500\" allow=\"autoplay; camera; microphone; clipboard-read; clipboard-write;\" frameborder=\"0\" allowfullscreen></iframe></div>"
      ],
      "text/plain": [
       "<IPython.core.display.HTML object>"
      ]
     },
     "metadata": {},
     "output_type": "display_data"
    },
    {
     "data": {
      "text/plain": []
     },
     "execution_count": 5,
     "metadata": {},
     "output_type": "execute_result"
    }
   ],
   "source": [
    "# import gradio as gr\n",
    "\n",
    "# def model_output():\n",
    "#     # 模拟四个选项\n",
    "#     options = [\"选项 A\", \"选项 B\", \"选项 C\", \"选项 D\"]\n",
    "#     return options\n",
    "\n",
    "# with gr.Blocks() as interface2:\n",
    "#     user_input = gr.Textbox(label=\"请输入\")\n",
    "#     options = gr.Radio(choices=[\"选项 A\", \"选项 B\", \"选项 C\", \"选项 D\"], label=\"请选择一个选项\")\n",
    "#     log_out = gr.Textbox()\n",
    "#     # user_input.change(fn=model_output, inputs=user_input, outputs=[options])\n",
    "#     user_input.change(fn=model_output, inputs=options, outputs=log_out)\n",
    "\n",
    "# # demo = gr.Interface(interface2)\n",
    "# # demo.launch()\n",
    "# interface2.launch(inline=True)\n",
    "\n",
    "import gradio as gr\n",
    "\n",
    "def greet(choice):\n",
    "    return f\"你选择了：{choice}\"\n",
    "\n",
    "iface = gr.Interface(\n",
    "    fn=greet,\n",
    "    inputs=gr.Radio(\n",
    "        choices=[\"选项 A\", \"选项 B\", \"选项 C\"],\n",
    "        value=\"选项 B\",  # 默认选中 \"选项 B\"\n",
    "        label=\"请选择一个选项\",\n",
    "        info=\"这是一个单选按钮组示例\"\n",
    "    ),\n",
    "    outputs=\"text\"\n",
    ")\n",
    "# 记得先把之前运行的关闭了再启动，不然会报错\n",
    "iface.close()\n",
    "iface.launch()"
   ]
  },
  {
   "cell_type": "code",
   "execution_count": null,
   "id": "12e5f916-b112-4bab-9197-30236120ed83",
   "metadata": {},
   "outputs": [],
   "source": []
  }
 ],
 "metadata": {
  "kernelspec": {
   "display_name": "Python 3 (ipykernel)",
   "language": "python",
   "name": "python3"
  },
  "language_info": {
   "codemirror_mode": {
    "name": "ipython",
    "version": 3
   },
   "file_extension": ".py",
   "mimetype": "text/x-python",
   "name": "python",
   "nbconvert_exporter": "python",
   "pygments_lexer": "ipython3",
   "version": "3.10.14"
  }
 },
 "nbformat": 4,
 "nbformat_minor": 5
}
